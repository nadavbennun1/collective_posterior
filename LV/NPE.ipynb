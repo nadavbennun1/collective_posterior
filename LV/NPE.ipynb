{
 "cells": [
  {
   "cell_type": "code",
   "execution_count": 1,
   "id": "caf5e9a8-7992-4bbe-8a4f-4d8b8408f908",
   "metadata": {},
   "outputs": [],
   "source": [
    "import sbibm\n",
    "from sbi.inference import SNPE, prepare_for_sbi, simulate_for_sbi\n",
    "from sbi.utils import BoxUniform\n",
    "import torch\n",
    "import pickle\n",
    "import sys  \n",
    "sys.path.insert(1, '../')\n",
    "from collective_posterior import CollectivePosterior\n",
    "\n",
    "task = sbibm.get_task('gaussian_linear_uniform') # See sbibm.get_available_tasks() for all tasks\n",
    "prior = task.get_prior()\n",
    "simulator = task.get_simulator()\n",
    "observation = task.get_observation(num_observation=1)  # 10 per task\n",
    "\n",
    "# These objects can then be used for custom inference algorithms, e.g.\n",
    "# we might want to generate simulations by sampling from prior:\n",
    "thetas = prior(num_samples=100_000)\n",
    "xs = simulator(thetas)\n",
    "theta_dim = len(prior(num_samples=1)[0])\n",
    "prior_min = torch.tensor([-1]*theta_dim, dtype=torch.float32)\n",
    "prior_max = torch.tensor([1]*theta_dim, dtype=torch.float32)\n",
    "inf_prior = BoxUniform(low=prior_min, high=prior_max)\n"
   ]
  },
  {
   "cell_type": "code",
   "execution_count": 41,
   "id": "1b93bcd9-e94d-4ae9-a2af-f956c9c262d5",
   "metadata": {},
   "outputs": [
    {
     "name": "stdout",
     "output_type": "stream",
     "text": [
      " Neural network successfully converged after 147 epochs."
     ]
    }
   ],
   "source": [
    "inference = SNPE(prior=inf_prior)\n",
    "\n",
    "density_estimator = inference.append_simulations(thetas, xs).train()\n",
    "posterior = inference.build_posterior(density_estimator)\n",
    "\n",
    "# Save the posterior with pickle\n",
    "with open(f'posterior_GLU.pkl', 'wb') as f:\n",
    "    pickle.dump(posterior, f)\n"
   ]
  },
  {
   "cell_type": "code",
   "execution_count": 2,
   "id": "997f4027-af7e-4eea-b291-914cce4907d2",
   "metadata": {},
   "outputs": [
    {
     "data": {
      "application/vnd.jupyter.widget-view+json": {
       "model_id": "4749d8755423478f9af9b0f4bc307597",
       "version_major": 2,
       "version_minor": 0
      },
      "text/plain": [
       "Drawing 100 posterior samples:   0%|          | 0/100 [00:00<?, ?it/s]"
      ]
     },
     "metadata": {},
     "output_type": "display_data"
    }
   ],
   "source": [
    "posterior = pickle.load(open('posterior_GLU.pkl','rb'))\n",
    "theta = prior()\n",
    "obs = simulator(theta)\n",
    "m = posterior.set_default_x(obs).sample((100,)).mean(0)"
   ]
  },
  {
   "cell_type": "code",
   "execution_count": 4,
   "id": "fef611b4-7019-45d5-9103-466db43f0ffd",
   "metadata": {
    "collapsed": true,
    "jupyter": {
     "outputs_hidden": true
    },
    "tags": []
   },
   "outputs": [
    {
     "data": {
      "application/vnd.jupyter.widget-view+json": {
       "model_id": "d754efaefc9d403ba807c712fc4d2f73",
       "version_major": 2,
       "version_minor": 0
      },
      "text/plain": [
       "Drawing 200 posterior samples:   0%|          | 0/200 [00:00<?, ?it/s]"
      ]
     },
     "metadata": {},
     "output_type": "display_data"
    },
    {
     "data": {
      "application/vnd.jupyter.widget-view+json": {
       "model_id": "60c913dc12ad4084a9a5cc6d33cf1c69",
       "version_major": 2,
       "version_minor": 0
      },
      "text/plain": [
       "Drawing 200 posterior samples:   0%|          | 0/200 [00:00<?, ?it/s]"
      ]
     },
     "metadata": {},
     "output_type": "display_data"
    },
    {
     "data": {
      "application/vnd.jupyter.widget-view+json": {
       "model_id": "9c12281fc3d94e11936f33e0f89e94c9",
       "version_major": 2,
       "version_minor": 0
      },
      "text/plain": [
       "Drawing 200 posterior samples:   0%|          | 0/200 [00:00<?, ?it/s]"
      ]
     },
     "metadata": {},
     "output_type": "display_data"
    },
    {
     "data": {
      "application/vnd.jupyter.widget-view+json": {
       "model_id": "f15b123022c4460684127a745404b2f9",
       "version_major": 2,
       "version_minor": 0
      },
      "text/plain": [
       "Drawing 200 posterior samples:   0%|          | 0/200 [00:00<?, ?it/s]"
      ]
     },
     "metadata": {},
     "output_type": "display_data"
    },
    {
     "data": {
      "application/vnd.jupyter.widget-view+json": {
       "model_id": "b7a499ecae7649c79630edb232c7dd98",
       "version_major": 2,
       "version_minor": 0
      },
      "text/plain": [
       "Drawing 200 posterior samples:   0%|          | 0/200 [00:00<?, ?it/s]"
      ]
     },
     "metadata": {},
     "output_type": "display_data"
    },
    {
     "data": {
      "application/vnd.jupyter.widget-view+json": {
       "model_id": "fb433b55940e4fbf88bdc9c1f13ffdef",
       "version_major": 2,
       "version_minor": 0
      },
      "text/plain": [
       "Drawing 200 posterior samples:   0%|          | 0/200 [00:00<?, ?it/s]"
      ]
     },
     "metadata": {},
     "output_type": "display_data"
    },
    {
     "data": {
      "application/vnd.jupyter.widget-view+json": {
       "model_id": "c787e5037b9747d19ea61cfe73ec3fb0",
       "version_major": 2,
       "version_minor": 0
      },
      "text/plain": [
       "Drawing 200 posterior samples:   0%|          | 0/200 [00:00<?, ?it/s]"
      ]
     },
     "metadata": {},
     "output_type": "display_data"
    },
    {
     "data": {
      "application/vnd.jupyter.widget-view+json": {
       "model_id": "466fb6fc9fbd4ad1b4c1ea897185db46",
       "version_major": 2,
       "version_minor": 0
      },
      "text/plain": [
       "Drawing 200 posterior samples:   0%|          | 0/200 [00:00<?, ?it/s]"
      ]
     },
     "metadata": {},
     "output_type": "display_data"
    },
    {
     "data": {
      "application/vnd.jupyter.widget-view+json": {
       "model_id": "e2810f22f47146cdbde4d12a2d0b1ad1",
       "version_major": 2,
       "version_minor": 0
      },
      "text/plain": [
       "Drawing 200 posterior samples:   0%|          | 0/200 [00:00<?, ?it/s]"
      ]
     },
     "metadata": {},
     "output_type": "display_data"
    },
    {
     "data": {
      "application/vnd.jupyter.widget-view+json": {
       "model_id": "efdcc77ab9f542b398943d4a5af11335",
       "version_major": 2,
       "version_minor": 0
      },
      "text/plain": [
       "Drawing 200 posterior samples:   0%|          | 0/200 [00:00<?, ?it/s]"
      ]
     },
     "metadata": {},
     "output_type": "display_data"
    },
    {
     "data": {
      "application/vnd.jupyter.widget-view+json": {
       "model_id": "1cb89ba719344303a4ffe16065fbf158",
       "version_major": 2,
       "version_minor": 0
      },
      "text/plain": [
       "Drawing 200 posterior samples:   0%|          | 0/200 [00:00<?, ?it/s]"
      ]
     },
     "metadata": {},
     "output_type": "display_data"
    },
    {
     "data": {
      "application/vnd.jupyter.widget-view+json": {
       "model_id": "65d008751ee049a1945e4ad49efd2b2c",
       "version_major": 2,
       "version_minor": 0
      },
      "text/plain": [
       "Drawing 200 posterior samples:   0%|          | 0/200 [00:00<?, ?it/s]"
      ]
     },
     "metadata": {},
     "output_type": "display_data"
    },
    {
     "data": {
      "application/vnd.jupyter.widget-view+json": {
       "model_id": "5622e8fe858341f69d9c64bf297cf424",
       "version_major": 2,
       "version_minor": 0
      },
      "text/plain": [
       "Drawing 200 posterior samples:   0%|          | 0/200 [00:00<?, ?it/s]"
      ]
     },
     "metadata": {},
     "output_type": "display_data"
    },
    {
     "data": {
      "application/vnd.jupyter.widget-view+json": {
       "model_id": "b3132c6373ed4e4fb564e2460d6b26ce",
       "version_major": 2,
       "version_minor": 0
      },
      "text/plain": [
       "Drawing 200 posterior samples:   0%|          | 0/200 [00:00<?, ?it/s]"
      ]
     },
     "metadata": {},
     "output_type": "display_data"
    },
    {
     "data": {
      "application/vnd.jupyter.widget-view+json": {
       "model_id": "91df57a0cbdb41168f3dd07ef0208bf0",
       "version_major": 2,
       "version_minor": 0
      },
      "text/plain": [
       "Drawing 200 posterior samples:   0%|          | 0/200 [00:00<?, ?it/s]"
      ]
     },
     "metadata": {},
     "output_type": "display_data"
    },
    {
     "data": {
      "application/vnd.jupyter.widget-view+json": {
       "model_id": "edad9075ac6c455b9bdbb99647055024",
       "version_major": 2,
       "version_minor": 0
      },
      "text/plain": [
       "Drawing 200 posterior samples:   0%|          | 0/200 [00:00<?, ?it/s]"
      ]
     },
     "metadata": {},
     "output_type": "display_data"
    },
    {
     "data": {
      "application/vnd.jupyter.widget-view+json": {
       "model_id": "d907a88ae6cd4793b0fb742d500fb708",
       "version_major": 2,
       "version_minor": 0
      },
      "text/plain": [
       "Drawing 200 posterior samples:   0%|          | 0/200 [00:00<?, ?it/s]"
      ]
     },
     "metadata": {},
     "output_type": "display_data"
    },
    {
     "data": {
      "application/vnd.jupyter.widget-view+json": {
       "model_id": "4f02dbe6659249aaa26eadd0faabb9a1",
       "version_major": 2,
       "version_minor": 0
      },
      "text/plain": [
       "Drawing 200 posterior samples:   0%|          | 0/200 [00:00<?, ?it/s]"
      ]
     },
     "metadata": {},
     "output_type": "display_data"
    },
    {
     "data": {
      "application/vnd.jupyter.widget-view+json": {
       "model_id": "a9695f3770f44a7e8ff7a9a710c2ee14",
       "version_major": 2,
       "version_minor": 0
      },
      "text/plain": [
       "Drawing 200 posterior samples:   0%|          | 0/200 [00:00<?, ?it/s]"
      ]
     },
     "metadata": {},
     "output_type": "display_data"
    },
    {
     "data": {
      "application/vnd.jupyter.widget-view+json": {
       "model_id": "c8eba952cc1c4234af634e35683bb242",
       "version_major": 2,
       "version_minor": 0
      },
      "text/plain": [
       "Drawing 200 posterior samples:   0%|          | 0/200 [00:00<?, ?it/s]"
      ]
     },
     "metadata": {},
     "output_type": "display_data"
    },
    {
     "data": {
      "application/vnd.jupyter.widget-view+json": {
       "model_id": "a04f542b937c4c6eadf994d0ea6f50c0",
       "version_major": 2,
       "version_minor": 0
      },
      "text/plain": [
       "Drawing 200 posterior samples:   0%|          | 0/200 [00:00<?, ?it/s]"
      ]
     },
     "metadata": {},
     "output_type": "display_data"
    },
    {
     "data": {
      "application/vnd.jupyter.widget-view+json": {
       "model_id": "a271f18922a3441fa3438d6be8e8e6b4",
       "version_major": 2,
       "version_minor": 0
      },
      "text/plain": [
       "Drawing 200 posterior samples:   0%|          | 0/200 [00:00<?, ?it/s]"
      ]
     },
     "metadata": {},
     "output_type": "display_data"
    },
    {
     "data": {
      "application/vnd.jupyter.widget-view+json": {
       "model_id": "a64c4e86cfa14728a7644288522f7ff9",
       "version_major": 2,
       "version_minor": 0
      },
      "text/plain": [
       "Drawing 200 posterior samples:   0%|          | 0/200 [00:00<?, ?it/s]"
      ]
     },
     "metadata": {},
     "output_type": "display_data"
    },
    {
     "data": {
      "application/vnd.jupyter.widget-view+json": {
       "model_id": "dbe6640267a444ed8dd0935db235683b",
       "version_major": 2,
       "version_minor": 0
      },
      "text/plain": [
       "Drawing 200 posterior samples:   0%|          | 0/200 [00:00<?, ?it/s]"
      ]
     },
     "metadata": {},
     "output_type": "display_data"
    },
    {
     "data": {
      "application/vnd.jupyter.widget-view+json": {
       "model_id": "6f7a210dd5b14ff7b1886643f00bae14",
       "version_major": 2,
       "version_minor": 0
      },
      "text/plain": [
       "Drawing 200 posterior samples:   0%|          | 0/200 [00:00<?, ?it/s]"
      ]
     },
     "metadata": {},
     "output_type": "display_data"
    },
    {
     "data": {
      "application/vnd.jupyter.widget-view+json": {
       "model_id": "0e49bb811f044fb59c5d22b8cdd91bcd",
       "version_major": 2,
       "version_minor": 0
      },
      "text/plain": [
       "Drawing 200 posterior samples:   0%|          | 0/200 [00:00<?, ?it/s]"
      ]
     },
     "metadata": {},
     "output_type": "display_data"
    },
    {
     "data": {
      "application/vnd.jupyter.widget-view+json": {
       "model_id": "cfe8d2242e094379bb666fe10c810005",
       "version_major": 2,
       "version_minor": 0
      },
      "text/plain": [
       "Drawing 200 posterior samples:   0%|          | 0/200 [00:00<?, ?it/s]"
      ]
     },
     "metadata": {},
     "output_type": "display_data"
    },
    {
     "data": {
      "application/vnd.jupyter.widget-view+json": {
       "model_id": "a3062a9fd47745a2b2a11780197c3a7b",
       "version_major": 2,
       "version_minor": 0
      },
      "text/plain": [
       "Drawing 200 posterior samples:   0%|          | 0/200 [00:00<?, ?it/s]"
      ]
     },
     "metadata": {},
     "output_type": "display_data"
    },
    {
     "data": {
      "application/vnd.jupyter.widget-view+json": {
       "model_id": "b070f82d570845768a0fe33ec38749c7",
       "version_major": 2,
       "version_minor": 0
      },
      "text/plain": [
       "Drawing 200 posterior samples:   0%|          | 0/200 [00:00<?, ?it/s]"
      ]
     },
     "metadata": {},
     "output_type": "display_data"
    },
    {
     "data": {
      "application/vnd.jupyter.widget-view+json": {
       "model_id": "a966970a83a74ba798c763a79f323101",
       "version_major": 2,
       "version_minor": 0
      },
      "text/plain": [
       "Drawing 200 posterior samples:   0%|          | 0/200 [00:00<?, ?it/s]"
      ]
     },
     "metadata": {},
     "output_type": "display_data"
    },
    {
     "data": {
      "application/vnd.jupyter.widget-view+json": {
       "model_id": "bfc2c71a73a0400bb3119bef4096dc9e",
       "version_major": 2,
       "version_minor": 0
      },
      "text/plain": [
       "Drawing 200 posterior samples:   0%|          | 0/200 [00:00<?, ?it/s]"
      ]
     },
     "metadata": {},
     "output_type": "display_data"
    },
    {
     "data": {
      "application/vnd.jupyter.widget-view+json": {
       "model_id": "2496cd80d1a54058bfe4df4426148991",
       "version_major": 2,
       "version_minor": 0
      },
      "text/plain": [
       "Drawing 200 posterior samples:   0%|          | 0/200 [00:00<?, ?it/s]"
      ]
     },
     "metadata": {},
     "output_type": "display_data"
    },
    {
     "data": {
      "application/vnd.jupyter.widget-view+json": {
       "model_id": "d65611bde02f4643806919fecad2884e",
       "version_major": 2,
       "version_minor": 0
      },
      "text/plain": [
       "Drawing 200 posterior samples:   0%|          | 0/200 [00:00<?, ?it/s]"
      ]
     },
     "metadata": {},
     "output_type": "display_data"
    },
    {
     "data": {
      "application/vnd.jupyter.widget-view+json": {
       "model_id": "ce4ee4d7adaa4c81bdbb236115440b63",
       "version_major": 2,
       "version_minor": 0
      },
      "text/plain": [
       "Drawing 200 posterior samples:   0%|          | 0/200 [00:00<?, ?it/s]"
      ]
     },
     "metadata": {},
     "output_type": "display_data"
    },
    {
     "data": {
      "application/vnd.jupyter.widget-view+json": {
       "model_id": "66523cf55d3e40db8dff6347ff7004bc",
       "version_major": 2,
       "version_minor": 0
      },
      "text/plain": [
       "Drawing 200 posterior samples:   0%|          | 0/200 [00:00<?, ?it/s]"
      ]
     },
     "metadata": {},
     "output_type": "display_data"
    },
    {
     "data": {
      "application/vnd.jupyter.widget-view+json": {
       "model_id": "7b8260ccdde14fb2b30127c55b646c8c",
       "version_major": 2,
       "version_minor": 0
      },
      "text/plain": [
       "Drawing 200 posterior samples:   0%|          | 0/200 [00:00<?, ?it/s]"
      ]
     },
     "metadata": {},
     "output_type": "display_data"
    },
    {
     "data": {
      "application/vnd.jupyter.widget-view+json": {
       "model_id": "97c3fda45632424389ef67384ff46d5d",
       "version_major": 2,
       "version_minor": 0
      },
      "text/plain": [
       "Drawing 200 posterior samples:   0%|          | 0/200 [00:00<?, ?it/s]"
      ]
     },
     "metadata": {},
     "output_type": "display_data"
    },
    {
     "data": {
      "application/vnd.jupyter.widget-view+json": {
       "model_id": "91251d4736ac40b29faf0eabccadb1a8",
       "version_major": 2,
       "version_minor": 0
      },
      "text/plain": [
       "Drawing 200 posterior samples:   0%|          | 0/200 [00:00<?, ?it/s]"
      ]
     },
     "metadata": {},
     "output_type": "display_data"
    },
    {
     "data": {
      "application/vnd.jupyter.widget-view+json": {
       "model_id": "d1ddd5757a0a43478e3fd329558786ed",
       "version_major": 2,
       "version_minor": 0
      },
      "text/plain": [
       "Drawing 200 posterior samples:   0%|          | 0/200 [00:00<?, ?it/s]"
      ]
     },
     "metadata": {},
     "output_type": "display_data"
    },
    {
     "data": {
      "application/vnd.jupyter.widget-view+json": {
       "model_id": "a877ab4ca7d14cf2b0c3f2baf9e1db0a",
       "version_major": 2,
       "version_minor": 0
      },
      "text/plain": [
       "Drawing 200 posterior samples:   0%|          | 0/200 [00:00<?, ?it/s]"
      ]
     },
     "metadata": {},
     "output_type": "display_data"
    },
    {
     "data": {
      "application/vnd.jupyter.widget-view+json": {
       "model_id": "75b1b0bb4e56446f8625c2e4a071f6f2",
       "version_major": 2,
       "version_minor": 0
      },
      "text/plain": [
       "Drawing 200 posterior samples:   0%|          | 0/200 [00:00<?, ?it/s]"
      ]
     },
     "metadata": {},
     "output_type": "display_data"
    },
    {
     "data": {
      "application/vnd.jupyter.widget-view+json": {
       "model_id": "5512be1a60d6441581bcbd38b1d60677",
       "version_major": 2,
       "version_minor": 0
      },
      "text/plain": [
       "Drawing 200 posterior samples:   0%|          | 0/200 [00:00<?, ?it/s]"
      ]
     },
     "metadata": {},
     "output_type": "display_data"
    },
    {
     "data": {
      "application/vnd.jupyter.widget-view+json": {
       "model_id": "a1ecd2182dab4454bd5760f31ddf5278",
       "version_major": 2,
       "version_minor": 0
      },
      "text/plain": [
       "Drawing 200 posterior samples:   0%|          | 0/200 [00:00<?, ?it/s]"
      ]
     },
     "metadata": {},
     "output_type": "display_data"
    },
    {
     "data": {
      "application/vnd.jupyter.widget-view+json": {
       "model_id": "eb9cde428ad245fcb3638b877344e76a",
       "version_major": 2,
       "version_minor": 0
      },
      "text/plain": [
       "Drawing 200 posterior samples:   0%|          | 0/200 [00:00<?, ?it/s]"
      ]
     },
     "metadata": {},
     "output_type": "display_data"
    },
    {
     "data": {
      "application/vnd.jupyter.widget-view+json": {
       "model_id": "a73bd1de43b64370bdffc1a69bbe4e40",
       "version_major": 2,
       "version_minor": 0
      },
      "text/plain": [
       "Drawing 200 posterior samples:   0%|          | 0/200 [00:00<?, ?it/s]"
      ]
     },
     "metadata": {},
     "output_type": "display_data"
    },
    {
     "data": {
      "application/vnd.jupyter.widget-view+json": {
       "model_id": "9b52bcd48f524cd097d108043005c8ef",
       "version_major": 2,
       "version_minor": 0
      },
      "text/plain": [
       "Drawing 200 posterior samples:   0%|          | 0/200 [00:00<?, ?it/s]"
      ]
     },
     "metadata": {},
     "output_type": "display_data"
    },
    {
     "data": {
      "application/vnd.jupyter.widget-view+json": {
       "model_id": "46c5dcea394a4a3aa77388f95420516a",
       "version_major": 2,
       "version_minor": 0
      },
      "text/plain": [
       "Drawing 200 posterior samples:   0%|          | 0/200 [00:00<?, ?it/s]"
      ]
     },
     "metadata": {},
     "output_type": "display_data"
    },
    {
     "data": {
      "application/vnd.jupyter.widget-view+json": {
       "model_id": "7ea1f571c9994d6cb9477bc64cb3cea7",
       "version_major": 2,
       "version_minor": 0
      },
      "text/plain": [
       "Drawing 200 posterior samples:   0%|          | 0/200 [00:00<?, ?it/s]"
      ]
     },
     "metadata": {},
     "output_type": "display_data"
    },
    {
     "data": {
      "application/vnd.jupyter.widget-view+json": {
       "model_id": "cd425f1e88554115afd4a896ee233346",
       "version_major": 2,
       "version_minor": 0
      },
      "text/plain": [
       "Drawing 200 posterior samples:   0%|          | 0/200 [00:00<?, ?it/s]"
      ]
     },
     "metadata": {},
     "output_type": "display_data"
    },
    {
     "data": {
      "application/vnd.jupyter.widget-view+json": {
       "model_id": "16a7122adfa64cd6acdb8a86d60fb61b",
       "version_major": 2,
       "version_minor": 0
      },
      "text/plain": [
       "Drawing 200 posterior samples:   0%|          | 0/200 [00:00<?, ?it/s]"
      ]
     },
     "metadata": {},
     "output_type": "display_data"
    },
    {
     "data": {
      "application/vnd.jupyter.widget-view+json": {
       "model_id": "32d966925c7248bd91884431500b8d6e",
       "version_major": 2,
       "version_minor": 0
      },
      "text/plain": [
       "Drawing 200 posterior samples:   0%|          | 0/200 [00:00<?, ?it/s]"
      ]
     },
     "metadata": {},
     "output_type": "display_data"
    },
    {
     "data": {
      "application/vnd.jupyter.widget-view+json": {
       "model_id": "e8f103db2f3048c583f426910bbe9932",
       "version_major": 2,
       "version_minor": 0
      },
      "text/plain": [
       "Drawing 200 posterior samples:   0%|          | 0/200 [00:00<?, ?it/s]"
      ]
     },
     "metadata": {},
     "output_type": "display_data"
    },
    {
     "data": {
      "application/vnd.jupyter.widget-view+json": {
       "model_id": "1332bc56b1c347928d819935c1b6a217",
       "version_major": 2,
       "version_minor": 0
      },
      "text/plain": [
       "Drawing 200 posterior samples:   0%|          | 0/200 [00:00<?, ?it/s]"
      ]
     },
     "metadata": {},
     "output_type": "display_data"
    },
    {
     "data": {
      "application/vnd.jupyter.widget-view+json": {
       "model_id": "6fadc8cb708b412cab2e4f2760e2888f",
       "version_major": 2,
       "version_minor": 0
      },
      "text/plain": [
       "Drawing 200 posterior samples:   0%|          | 0/200 [00:00<?, ?it/s]"
      ]
     },
     "metadata": {},
     "output_type": "display_data"
    },
    {
     "data": {
      "application/vnd.jupyter.widget-view+json": {
       "model_id": "773ded81602e45108a86fb53d1b49852",
       "version_major": 2,
       "version_minor": 0
      },
      "text/plain": [
       "Drawing 200 posterior samples:   0%|          | 0/200 [00:00<?, ?it/s]"
      ]
     },
     "metadata": {},
     "output_type": "display_data"
    },
    {
     "data": {
      "application/vnd.jupyter.widget-view+json": {
       "model_id": "d6a1b42dce184412afcdf24c898931db",
       "version_major": 2,
       "version_minor": 0
      },
      "text/plain": [
       "Drawing 200 posterior samples:   0%|          | 0/200 [00:00<?, ?it/s]"
      ]
     },
     "metadata": {},
     "output_type": "display_data"
    },
    {
     "data": {
      "application/vnd.jupyter.widget-view+json": {
       "model_id": "4a2b0d3a7b2f481c91a3a85d611feda0",
       "version_major": 2,
       "version_minor": 0
      },
      "text/plain": [
       "Drawing 200 posterior samples:   0%|          | 0/200 [00:00<?, ?it/s]"
      ]
     },
     "metadata": {},
     "output_type": "display_data"
    },
    {
     "data": {
      "application/vnd.jupyter.widget-view+json": {
       "model_id": "450d79d8be0e46b8ad0ef805fc10638a",
       "version_major": 2,
       "version_minor": 0
      },
      "text/plain": [
       "Drawing 200 posterior samples:   0%|          | 0/200 [00:00<?, ?it/s]"
      ]
     },
     "metadata": {},
     "output_type": "display_data"
    },
    {
     "data": {
      "application/vnd.jupyter.widget-view+json": {
       "model_id": "764315463aee48558168f1d7d1ebab6f",
       "version_major": 2,
       "version_minor": 0
      },
      "text/plain": [
       "Drawing 200 posterior samples:   0%|          | 0/200 [00:00<?, ?it/s]"
      ]
     },
     "metadata": {},
     "output_type": "display_data"
    },
    {
     "data": {
      "application/vnd.jupyter.widget-view+json": {
       "model_id": "caf9e146e377410e8960369397035f3f",
       "version_major": 2,
       "version_minor": 0
      },
      "text/plain": [
       "Drawing 200 posterior samples:   0%|          | 0/200 [00:00<?, ?it/s]"
      ]
     },
     "metadata": {},
     "output_type": "display_data"
    },
    {
     "data": {
      "application/vnd.jupyter.widget-view+json": {
       "model_id": "47c1e760dab248d4a7819cfdc5b123f8",
       "version_major": 2,
       "version_minor": 0
      },
      "text/plain": [
       "Drawing 200 posterior samples:   0%|          | 0/200 [00:00<?, ?it/s]"
      ]
     },
     "metadata": {},
     "output_type": "display_data"
    },
    {
     "data": {
      "application/vnd.jupyter.widget-view+json": {
       "model_id": "2b6a4b1b65a14757b2b9585323c8a86e",
       "version_major": 2,
       "version_minor": 0
      },
      "text/plain": [
       "Drawing 200 posterior samples:   0%|          | 0/200 [00:00<?, ?it/s]"
      ]
     },
     "metadata": {},
     "output_type": "display_data"
    },
    {
     "data": {
      "application/vnd.jupyter.widget-view+json": {
       "model_id": "60e8660e4232454c93ad35de978981ec",
       "version_major": 2,
       "version_minor": 0
      },
      "text/plain": [
       "Drawing 200 posterior samples:   0%|          | 0/200 [00:00<?, ?it/s]"
      ]
     },
     "metadata": {},
     "output_type": "display_data"
    },
    {
     "data": {
      "application/vnd.jupyter.widget-view+json": {
       "model_id": "fd6cb86a52514518aab0c36d4b72601f",
       "version_major": 2,
       "version_minor": 0
      },
      "text/plain": [
       "Drawing 200 posterior samples:   0%|          | 0/200 [00:00<?, ?it/s]"
      ]
     },
     "metadata": {},
     "output_type": "display_data"
    },
    {
     "data": {
      "application/vnd.jupyter.widget-view+json": {
       "model_id": "8c1ab5420b744e259a485b2510376e5c",
       "version_major": 2,
       "version_minor": 0
      },
      "text/plain": [
       "Drawing 200 posterior samples:   0%|          | 0/200 [00:00<?, ?it/s]"
      ]
     },
     "metadata": {},
     "output_type": "display_data"
    },
    {
     "data": {
      "application/vnd.jupyter.widget-view+json": {
       "model_id": "1e0b078bb79f4d919c577626d68c7a6d",
       "version_major": 2,
       "version_minor": 0
      },
      "text/plain": [
       "Drawing 200 posterior samples:   0%|          | 0/200 [00:00<?, ?it/s]"
      ]
     },
     "metadata": {},
     "output_type": "display_data"
    },
    {
     "data": {
      "application/vnd.jupyter.widget-view+json": {
       "model_id": "4f9f6c2f4e1b44cd907b9fba5f42ea4b",
       "version_major": 2,
       "version_minor": 0
      },
      "text/plain": [
       "Drawing 200 posterior samples:   0%|          | 0/200 [00:00<?, ?it/s]"
      ]
     },
     "metadata": {},
     "output_type": "display_data"
    },
    {
     "data": {
      "application/vnd.jupyter.widget-view+json": {
       "model_id": "c623b07b7784459496e9bc0626e5c37c",
       "version_major": 2,
       "version_minor": 0
      },
      "text/plain": [
       "Drawing 200 posterior samples:   0%|          | 0/200 [00:00<?, ?it/s]"
      ]
     },
     "metadata": {},
     "output_type": "display_data"
    },
    {
     "data": {
      "application/vnd.jupyter.widget-view+json": {
       "model_id": "a20d51621fc9459892ce16dd473f04f2",
       "version_major": 2,
       "version_minor": 0
      },
      "text/plain": [
       "Drawing 200 posterior samples:   0%|          | 0/200 [00:00<?, ?it/s]"
      ]
     },
     "metadata": {},
     "output_type": "display_data"
    },
    {
     "data": {
      "application/vnd.jupyter.widget-view+json": {
       "model_id": "7a315752f7b44e05b944579d1fa01634",
       "version_major": 2,
       "version_minor": 0
      },
      "text/plain": [
       "Drawing 200 posterior samples:   0%|          | 0/200 [00:00<?, ?it/s]"
      ]
     },
     "metadata": {},
     "output_type": "display_data"
    },
    {
     "data": {
      "application/vnd.jupyter.widget-view+json": {
       "model_id": "5700a8c662cc4cb9806220fd32a87b88",
       "version_major": 2,
       "version_minor": 0
      },
      "text/plain": [
       "Drawing 200 posterior samples:   0%|          | 0/200 [00:00<?, ?it/s]"
      ]
     },
     "metadata": {},
     "output_type": "display_data"
    },
    {
     "data": {
      "application/vnd.jupyter.widget-view+json": {
       "model_id": "7771bf0d4dde4c20b40959d692120191",
       "version_major": 2,
       "version_minor": 0
      },
      "text/plain": [
       "Drawing 200 posterior samples:   0%|          | 0/200 [00:00<?, ?it/s]"
      ]
     },
     "metadata": {},
     "output_type": "display_data"
    },
    {
     "data": {
      "application/vnd.jupyter.widget-view+json": {
       "model_id": "d0a5fe70469a4c0b80e3b77a1cad849a",
       "version_major": 2,
       "version_minor": 0
      },
      "text/plain": [
       "Drawing 200 posterior samples:   0%|          | 0/200 [00:00<?, ?it/s]"
      ]
     },
     "metadata": {},
     "output_type": "display_data"
    },
    {
     "data": {
      "application/vnd.jupyter.widget-view+json": {
       "model_id": "073df7d5d39e4df699b2cffe8f7533f7",
       "version_major": 2,
       "version_minor": 0
      },
      "text/plain": [
       "Drawing 200 posterior samples:   0%|          | 0/200 [00:00<?, ?it/s]"
      ]
     },
     "metadata": {},
     "output_type": "display_data"
    },
    {
     "data": {
      "application/vnd.jupyter.widget-view+json": {
       "model_id": "c116f3f2ba8c45fbbf208ef448577949",
       "version_major": 2,
       "version_minor": 0
      },
      "text/plain": [
       "Drawing 200 posterior samples:   0%|          | 0/200 [00:00<?, ?it/s]"
      ]
     },
     "metadata": {},
     "output_type": "display_data"
    },
    {
     "data": {
      "application/vnd.jupyter.widget-view+json": {
       "model_id": "e3905204e4a3412e96dd1b744382f4eb",
       "version_major": 2,
       "version_minor": 0
      },
      "text/plain": [
       "Drawing 200 posterior samples:   0%|          | 0/200 [00:00<?, ?it/s]"
      ]
     },
     "metadata": {},
     "output_type": "display_data"
    },
    {
     "data": {
      "application/vnd.jupyter.widget-view+json": {
       "model_id": "0145f6e821d545858c5ce977ece821aa",
       "version_major": 2,
       "version_minor": 0
      },
      "text/plain": [
       "Drawing 200 posterior samples:   0%|          | 0/200 [00:00<?, ?it/s]"
      ]
     },
     "metadata": {},
     "output_type": "display_data"
    },
    {
     "data": {
      "application/vnd.jupyter.widget-view+json": {
       "model_id": "42fcc937771449bcb5c1f77f0ec88876",
       "version_major": 2,
       "version_minor": 0
      },
      "text/plain": [
       "Drawing 200 posterior samples:   0%|          | 0/200 [00:00<?, ?it/s]"
      ]
     },
     "metadata": {},
     "output_type": "display_data"
    },
    {
     "data": {
      "application/vnd.jupyter.widget-view+json": {
       "model_id": "f0fd20c9fe4b4a81ad21e49ab1bf68cb",
       "version_major": 2,
       "version_minor": 0
      },
      "text/plain": [
       "Drawing 200 posterior samples:   0%|          | 0/200 [00:00<?, ?it/s]"
      ]
     },
     "metadata": {},
     "output_type": "display_data"
    },
    {
     "data": {
      "application/vnd.jupyter.widget-view+json": {
       "model_id": "11515bf37a884ba0a81212f93c138169",
       "version_major": 2,
       "version_minor": 0
      },
      "text/plain": [
       "Drawing 200 posterior samples:   0%|          | 0/200 [00:00<?, ?it/s]"
      ]
     },
     "metadata": {},
     "output_type": "display_data"
    },
    {
     "data": {
      "application/vnd.jupyter.widget-view+json": {
       "model_id": "f7d9303220334f93b70b58e25711c02b",
       "version_major": 2,
       "version_minor": 0
      },
      "text/plain": [
       "Drawing 200 posterior samples:   0%|          | 0/200 [00:00<?, ?it/s]"
      ]
     },
     "metadata": {},
     "output_type": "display_data"
    },
    {
     "data": {
      "application/vnd.jupyter.widget-view+json": {
       "model_id": "2a0a8f74cd9440578b9e364d1a6a5520",
       "version_major": 2,
       "version_minor": 0
      },
      "text/plain": [
       "Drawing 200 posterior samples:   0%|          | 0/200 [00:00<?, ?it/s]"
      ]
     },
     "metadata": {},
     "output_type": "display_data"
    },
    {
     "data": {
      "application/vnd.jupyter.widget-view+json": {
       "model_id": "18290d3a1bfd494eb06d1557b86d3ac6",
       "version_major": 2,
       "version_minor": 0
      },
      "text/plain": [
       "Drawing 200 posterior samples:   0%|          | 0/200 [00:00<?, ?it/s]"
      ]
     },
     "metadata": {},
     "output_type": "display_data"
    },
    {
     "data": {
      "application/vnd.jupyter.widget-view+json": {
       "model_id": "97f5b8f4f5664ef786990240a831ce06",
       "version_major": 2,
       "version_minor": 0
      },
      "text/plain": [
       "Drawing 200 posterior samples:   0%|          | 0/200 [00:00<?, ?it/s]"
      ]
     },
     "metadata": {},
     "output_type": "display_data"
    },
    {
     "data": {
      "application/vnd.jupyter.widget-view+json": {
       "model_id": "212df4cde66c4313a5b9954929581f53",
       "version_major": 2,
       "version_minor": 0
      },
      "text/plain": [
       "Drawing 200 posterior samples:   0%|          | 0/200 [00:00<?, ?it/s]"
      ]
     },
     "metadata": {},
     "output_type": "display_data"
    },
    {
     "data": {
      "application/vnd.jupyter.widget-view+json": {
       "model_id": "899a5294a1e54322a023f3811b8cf6c9",
       "version_major": 2,
       "version_minor": 0
      },
      "text/plain": [
       "Drawing 200 posterior samples:   0%|          | 0/200 [00:00<?, ?it/s]"
      ]
     },
     "metadata": {},
     "output_type": "display_data"
    },
    {
     "data": {
      "application/vnd.jupyter.widget-view+json": {
       "model_id": "cde41e6b4867437a8cacc2ee19fb4991",
       "version_major": 2,
       "version_minor": 0
      },
      "text/plain": [
       "Drawing 200 posterior samples:   0%|          | 0/200 [00:00<?, ?it/s]"
      ]
     },
     "metadata": {},
     "output_type": "display_data"
    },
    {
     "data": {
      "application/vnd.jupyter.widget-view+json": {
       "model_id": "2a04aa63818d4a1285821f05ea0c7498",
       "version_major": 2,
       "version_minor": 0
      },
      "text/plain": [
       "Drawing 200 posterior samples:   0%|          | 0/200 [00:00<?, ?it/s]"
      ]
     },
     "metadata": {},
     "output_type": "display_data"
    },
    {
     "data": {
      "application/vnd.jupyter.widget-view+json": {
       "model_id": "8586ecbb0ff04ca4a4a160f43f5dc07f",
       "version_major": 2,
       "version_minor": 0
      },
      "text/plain": [
       "Drawing 200 posterior samples:   0%|          | 0/200 [00:00<?, ?it/s]"
      ]
     },
     "metadata": {},
     "output_type": "display_data"
    },
    {
     "data": {
      "application/vnd.jupyter.widget-view+json": {
       "model_id": "7043bea739ce47f4afb22c5053f11ced",
       "version_major": 2,
       "version_minor": 0
      },
      "text/plain": [
       "Drawing 200 posterior samples:   0%|          | 0/200 [00:00<?, ?it/s]"
      ]
     },
     "metadata": {},
     "output_type": "display_data"
    },
    {
     "data": {
      "application/vnd.jupyter.widget-view+json": {
       "model_id": "1113298e613342bf989b5142bcce2e37",
       "version_major": 2,
       "version_minor": 0
      },
      "text/plain": [
       "Drawing 200 posterior samples:   0%|          | 0/200 [00:00<?, ?it/s]"
      ]
     },
     "metadata": {},
     "output_type": "display_data"
    },
    {
     "data": {
      "application/vnd.jupyter.widget-view+json": {
       "model_id": "044e0415a4204f87a94b970933a2d7b6",
       "version_major": 2,
       "version_minor": 0
      },
      "text/plain": [
       "Drawing 200 posterior samples:   0%|          | 0/200 [00:00<?, ?it/s]"
      ]
     },
     "metadata": {},
     "output_type": "display_data"
    },
    {
     "data": {
      "application/vnd.jupyter.widget-view+json": {
       "model_id": "52390112771f48de850b5b2e7e751c23",
       "version_major": 2,
       "version_minor": 0
      },
      "text/plain": [
       "Drawing 200 posterior samples:   0%|          | 0/200 [00:00<?, ?it/s]"
      ]
     },
     "metadata": {},
     "output_type": "display_data"
    },
    {
     "data": {
      "application/vnd.jupyter.widget-view+json": {
       "model_id": "1f54776f510845c1a68fca36d91a3cdb",
       "version_major": 2,
       "version_minor": 0
      },
      "text/plain": [
       "Drawing 200 posterior samples:   0%|          | 0/200 [00:00<?, ?it/s]"
      ]
     },
     "metadata": {},
     "output_type": "display_data"
    },
    {
     "data": {
      "application/vnd.jupyter.widget-view+json": {
       "model_id": "f8197f5c24014f85ab432306f7016d50",
       "version_major": 2,
       "version_minor": 0
      },
      "text/plain": [
       "Drawing 200 posterior samples:   0%|          | 0/200 [00:00<?, ?it/s]"
      ]
     },
     "metadata": {},
     "output_type": "display_data"
    },
    {
     "data": {
      "application/vnd.jupyter.widget-view+json": {
       "model_id": "9b4a1418dc5f4aaeb504473e44d147c5",
       "version_major": 2,
       "version_minor": 0
      },
      "text/plain": [
       "Drawing 200 posterior samples:   0%|          | 0/200 [00:00<?, ?it/s]"
      ]
     },
     "metadata": {},
     "output_type": "display_data"
    },
    {
     "data": {
      "application/vnd.jupyter.widget-view+json": {
       "model_id": "c1db0c68c5954e32ba662c0b1a54606b",
       "version_major": 2,
       "version_minor": 0
      },
      "text/plain": [
       "Drawing 200 posterior samples:   0%|          | 0/200 [00:00<?, ?it/s]"
      ]
     },
     "metadata": {},
     "output_type": "display_data"
    },
    {
     "data": {
      "application/vnd.jupyter.widget-view+json": {
       "model_id": "ef68bc5cc22f46ca836553ea8c0ff8aa",
       "version_major": 2,
       "version_minor": 0
      },
      "text/plain": [
       "Drawing 200 posterior samples:   0%|          | 0/200 [00:00<?, ?it/s]"
      ]
     },
     "metadata": {},
     "output_type": "display_data"
    },
    {
     "data": {
      "application/vnd.jupyter.widget-view+json": {
       "model_id": "451d4c1881af452ba2508223018f400e",
       "version_major": 2,
       "version_minor": 0
      },
      "text/plain": [
       "Drawing 200 posterior samples:   0%|          | 0/200 [00:00<?, ?it/s]"
      ]
     },
     "metadata": {},
     "output_type": "display_data"
    },
    {
     "data": {
      "application/vnd.jupyter.widget-view+json": {
       "model_id": "be0b86f26f1c47c9a63e1103aac4920e",
       "version_major": 2,
       "version_minor": 0
      },
      "text/plain": [
       "Drawing 200 posterior samples:   0%|          | 0/200 [00:00<?, ?it/s]"
      ]
     },
     "metadata": {},
     "output_type": "display_data"
    }
   ],
   "source": [
    "# Evaluate accuracy\n",
    "n = 100\n",
    "theta = prior(n)\n",
    "obs = simulator(theta)\n",
    "res = torch.empty(n,theta_dim)\n",
    "\n",
    "for i in range(n):\n",
    "    m = posterior.set_default_x(obs[i]).sample((200,)).mean(0)\n",
    "    res[i,:] = m-theta[i]"
   ]
  },
  {
   "cell_type": "code",
   "execution_count": 5,
   "id": "00635488-ea79-42d8-9d72-e2cda9510467",
   "metadata": {},
   "outputs": [
    {
     "data": {
      "text/plain": [
       "(array([ 1.,  0.,  1.,  6., 16., 22., 20., 19., 12.,  3.]),\n",
       " array([-1.02425218, -0.86067754, -0.6971029 , -0.53352821, -0.36995357,\n",
       "        -0.20637894, -0.04280429,  0.12077036,  0.284345  ,  0.44791967,\n",
       "         0.6114943 ]),\n",
       " <BarContainer object of 10 artists>)"
      ]
     },
     "execution_count": 5,
     "metadata": {},
     "output_type": "execute_result"
    },
    {
     "data": {
      "image/png": "[encoded data removed]",
      "text/plain": [
       "<Figure size 640x480 with 1 Axes>"
      ]
     },
     "metadata": {},
     "output_type": "display_data"
    }
   ],
   "source": [
    "import matplotlib.pyplot as plt\n",
    "plt.hist(res[:,0])"
   ]
  },
  {
   "cell_type": "code",
   "execution_count": 49,
   "id": "095ce141-867e-4a1a-9b8a-0599c235a8b4",
   "metadata": {},
   "outputs": [],
   "source": [
    "theta = prior()\n",
    "X = torch.empty((10,len(observation[0])))\n",
    "for i in range(10):\n",
    "    X[i] = simulator(theta)[0]"
   ]
  },
  {
   "cell_type": "code",
   "execution_count": 50,
   "id": "3f44f213-58fa-4e03-b208-7c2df903755b",
   "metadata": {},
   "outputs": [
    {
     "name": "stdout",
     "output_type": "stream",
     "text": [
      "tensor(-62.0667)\n"
     ]
    }
   ],
   "source": [
    "from collective_posterior import CollectivePosterior\n",
    "\n",
    "n_eval = 300 # N used to calculate normalizng constant\n",
    "epsilon = -150 # choice is detailed later\n",
    "op = CollectivePosterior(inf_prior, posterior, X, n_eval, log_C=1, epsilon=-500)\n",
    "print(op.get_log_C())"
   ]
  },
  {
   "cell_type": "code",
   "execution_count": 51,
   "id": "549dc438-68ba-45bc-811f-8554f2d0b3e5",
   "metadata": {},
   "outputs": [],
   "source": [
    "y = torch.abs(op.sample(1000).mean(0)-theta)"
   ]
  },
  {
   "cell_type": "code",
   "execution_count": 52,
   "id": "5e3b69e5-1f92-4a17-82ec-485ef422e424",
   "metadata": {},
   "outputs": [
    {
     "data": {
      "application/vnd.jupyter.widget-view+json": {
       "model_id": "509be504fb554f22b3d3c3a3c7835b14",
       "version_major": 2,
       "version_minor": 0
      },
      "text/plain": [
       "Drawing 1000 posterior samples:   0%|          | 0/1000 [00:00<?, ?it/s]"
      ]
     },
     "metadata": {},
     "output_type": "display_data"
    },
    {
     "data": {
      "application/vnd.jupyter.widget-view+json": {
       "model_id": "32711575f9f44995a1591430c7ff9afb",
       "version_major": 2,
       "version_minor": 0
      },
      "text/plain": [
       "Drawing 1000 posterior samples:   0%|          | 0/1000 [00:00<?, ?it/s]"
      ]
     },
     "metadata": {},
     "output_type": "display_data"
    },
    {
     "data": {
      "application/vnd.jupyter.widget-view+json": {
       "model_id": "009d00b62a4041e799e4a497843901db",
       "version_major": 2,
       "version_minor": 0
      },
      "text/plain": [
       "Drawing 1000 posterior samples:   0%|          | 0/1000 [00:00<?, ?it/s]"
      ]
     },
     "metadata": {},
     "output_type": "display_data"
    },
    {
     "data": {
      "application/vnd.jupyter.widget-view+json": {
       "model_id": "46034e3c2f9848c1b612dad4d2c92255",
       "version_major": 2,
       "version_minor": 0
      },
      "text/plain": [
       "Drawing 1000 posterior samples:   0%|          | 0/1000 [00:00<?, ?it/s]"
      ]
     },
     "metadata": {},
     "output_type": "display_data"
    },
    {
     "data": {
      "application/vnd.jupyter.widget-view+json": {
       "model_id": "d0095bbb51794b90af9c42d7e22a394c",
       "version_major": 2,
       "version_minor": 0
      },
      "text/plain": [
       "Drawing 1000 posterior samples:   0%|          | 0/1000 [00:00<?, ?it/s]"
      ]
     },
     "metadata": {},
     "output_type": "display_data"
    },
    {
     "data": {
      "application/vnd.jupyter.widget-view+json": {
       "model_id": "7aa27bcff2f94ebf8a373c3e5d042d50",
       "version_major": 2,
       "version_minor": 0
      },
      "text/plain": [
       "Drawing 1000 posterior samples:   0%|          | 0/1000 [00:00<?, ?it/s]"
      ]
     },
     "metadata": {},
     "output_type": "display_data"
    },
    {
     "data": {
      "application/vnd.jupyter.widget-view+json": {
       "model_id": "af541928d91b4cd38f9061afe17a2596",
       "version_major": 2,
       "version_minor": 0
      },
      "text/plain": [
       "Drawing 1000 posterior samples:   0%|          | 0/1000 [00:00<?, ?it/s]"
      ]
     },
     "metadata": {},
     "output_type": "display_data"
    },
    {
     "data": {
      "application/vnd.jupyter.widget-view+json": {
       "model_id": "511dc09d10ce4f2eaa5865cd35a503b3",
       "version_major": 2,
       "version_minor": 0
      },
      "text/plain": [
       "Drawing 1000 posterior samples:   0%|          | 0/1000 [00:00<?, ?it/s]"
      ]
     },
     "metadata": {},
     "output_type": "display_data"
    },
    {
     "data": {
      "application/vnd.jupyter.widget-view+json": {
       "model_id": "58afd6b9792f44f692663af2a9532a43",
       "version_major": 2,
       "version_minor": 0
      },
      "text/plain": [
       "Drawing 1000 posterior samples:   0%|          | 0/1000 [00:00<?, ?it/s]"
      ]
     },
     "metadata": {},
     "output_type": "display_data"
    },
    {
     "data": {
      "application/vnd.jupyter.widget-view+json": {
       "model_id": "b9bad8ea973146b2a51c184292e85d41",
       "version_major": 2,
       "version_minor": 0
      },
      "text/plain": [
       "Drawing 1000 posterior samples:   0%|          | 0/1000 [00:00<?, ?it/s]"
      ]
     },
     "metadata": {},
     "output_type": "display_data"
    }
   ],
   "source": [
    "lst = torch.empty(10, len(observation[0]))\n",
    "for i in range(len(X)):\n",
    "    x = X[i]\n",
    "    lst[i] = posterior.set_default_x(x).sample((1000,)).mean(0)-theta[0]"
   ]
  },
  {
   "cell_type": "code",
   "execution_count": 53,
   "id": "7b34b1b8-3841-4cda-aa08-cbfd38f902f3",
   "metadata": {},
   "outputs": [],
   "source": [
    "l = torch.abs(lst.mean(0))"
   ]
  },
  {
   "cell_type": "code",
   "execution_count": 54,
   "id": "9d6f4874-cadb-493d-9d55-91d3ccad3366",
   "metadata": {},
   "outputs": [
    {
     "data": {
      "text/plain": [
       "(array([1., 0., 0., 2., 1., 0., 1., 2., 1., 2.]),\n",
       " array([-0.08492436, -0.06663156, -0.04833877, -0.03004598, -0.01175319,\n",
       "         0.00653961,  0.0248324 ,  0.04312519,  0.06141798,  0.07971077,\n",
       "         0.09800357]),\n",
       " <BarContainer object of 10 artists>)"
      ]
     },
     "execution_count": 54,
     "metadata": {},
     "output_type": "execute_result"
    },
    {
     "data": {
      "image/png": "[encoded data removed]",
      "text/plain": [
       "<Figure size 640x480 with 1 Axes>"
      ]
     },
     "metadata": {},
     "output_type": "display_data"
    }
   ],
   "source": [
    "plt.hist(l-y)"
   ]
  }
 ],
 "metadata": {
  "kernelspec": {
   "display_name": "Python 3 (ipykernel)",
   "language": "python",
   "name": "python3"
  },
  "language_info": {
   "codemirror_mode": {
    "name": "ipython",
    "version": 3
   },
   "file_extension": ".py",
   "mimetype": "text/x-python",
   "name": "python",
   "nbconvert_exporter": "python",
   "pygments_lexer": "ipython3",
   "version": "3.9.13"
  }
 },
 "nbformat": 4,
 "nbformat_minor": 5
}
