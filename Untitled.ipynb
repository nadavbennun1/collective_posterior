{
 "cells": [
  {
   "cell_type": "code",
   "execution_count": 2,
   "id": "ce48aa3e-0cc3-4adb-86b6-1ad8f1ade953",
   "metadata": {},
   "outputs": [
    {
     "data": {
      "text/plain": [
       "tensor([ 1.8349, -3.3344,  2.2684, -2.7256,  1.2362, -4.3115,  2.1154, -2.3001])"
      ]
     },
     "execution_count": 2,
     "metadata": {},
     "output_type": "execute_result"
    }
   ],
   "source": [
    "import sbibm\n",
    "task = sbibm.get_task('slcp')\n",
    "f = task.get_simulator()\n",
    "prior = task.get_prior()\n",
    "f(prior())[0]"
   ]
  },
  {
   "cell_type": "code",
   "execution_count": 3,
   "id": "d72b51f0-19c9-409b-9db1-83b69f84e163",
   "metadata": {},
   "outputs": [
    {
     "data": {
      "text/plain": [
       "['gaussian_linear',\n",
       " 'gaussian_mixture',\n",
       " 'slcp',\n",
       " 'lotka_volterra',\n",
       " 'bernoulli_glm',\n",
       " 'two_moons',\n",
       " 'gaussian_linear_uniform',\n",
       " 'sir',\n",
       " 'slcp_distractors',\n",
       " 'bernoulli_glm_raw']"
      ]
     },
     "execution_count": 3,
     "metadata": {},
     "output_type": "execute_result"
    }
   ],
   "source": [
    "sbibm.get_available_tasks()"
   ]
  },
  {
   "cell_type": "code",
   "execution_count": null,
   "id": "deffc90e-34f4-4931-be3d-93ab05722dbe",
   "metadata": {},
   "outputs": [],
   "source": []
  }
 ],
 "metadata": {
  "kernelspec": {
   "display_name": "Python 3 (ipykernel)",
   "language": "python",
   "name": "python3"
  },
  "language_info": {
   "codemirror_mode": {
    "name": "ipython",
    "version": 3
   },
   "file_extension": ".py",
   "mimetype": "text/x-python",
   "name": "python",
   "nbconvert_exporter": "python",
   "pygments_lexer": "ipython3",
   "version": "3.9.13"
  }
 },
 "nbformat": 4,
 "nbformat_minor": 5
}
